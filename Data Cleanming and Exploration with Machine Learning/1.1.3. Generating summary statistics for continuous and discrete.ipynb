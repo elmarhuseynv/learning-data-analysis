{
 "cells": [
  {
   "cell_type": "code",
   "execution_count": 2,
   "id": "cfedbb2a",
   "metadata": {},
   "outputs": [],
   "source": [
    "import pandas as pd\n",
    "import numpy as np \n",
    "import scipy.stats as scistat"
   ]
  },
  {
   "cell_type": "code",
   "execution_count": 10,
   "id": "36e4a55d",
   "metadata": {},
   "outputs": [],
   "source": [
    "covidtotals = pd.read_csv(\"C:/Users/hp/Documents/DATA/covid/covidtotals.csv\", parse_dates=['lastdate'])\n",
    "covidtotals.set_index(\"iso_code\", inplace=True)"
   ]
  },
  {
   "cell_type": "code",
   "execution_count": 11,
   "id": "970721c9",
   "metadata": {},
   "outputs": [
    {
     "data": {
      "text/plain": [
       "(221, 16)"
      ]
     },
     "execution_count": 11,
     "metadata": {},
     "output_type": "execute_result"
    }
   ],
   "source": [
    "covidtotals.shape"
   ]
  },
  {
   "cell_type": "code",
   "execution_count": 17,
   "id": "54750e4e",
   "metadata": {},
   "outputs": [
    {
     "name": "stdout",
     "output_type": "stream",
     "text": [
      "iso_code                             ISL                  CZE\n",
      "lastdate             2021-07-07 00:00:00  2021-07-07 00:00:00\n",
      "location                         Iceland              Czechia\n",
      "total_cases                       6555.0            1668277.0\n",
      "total_deaths                        29.0              30311.0\n",
      "total_cases_mill               19208.791           155782.968\n",
      "total_deaths_mill                 84.982             2830.428\n",
      "population                      341250.0           10708982.0\n",
      "population_density                 3.404              137.176\n",
      "median_age                          37.3                 43.3\n",
      "gdp_per_capita                 46482.958            32605.906\n",
      "aged_65_older                     14.431               19.027\n",
      "total_tests_thous                    NaN                  NaN\n",
      "life_expectancy                    82.99                79.38\n",
      "hospital_beds_thous                 2.91                 6.63\n",
      "diabetes_prevalence                 5.31                 6.82\n",
      "region                    Western Europe       Western Europe\n"
     ]
    }
   ],
   "source": [
    "print(covidtotals.sample(2, random_state=6).T)"
   ]
  },
  {
   "cell_type": "code",
   "execution_count": 18,
   "id": "8b051f7d",
   "metadata": {},
   "outputs": [
    {
     "name": "stdout",
     "output_type": "stream",
     "text": [
      "<class 'pandas.core.frame.DataFrame'>\n",
      "Index: 221 entries, AFG to ZWE\n",
      "Data columns (total 16 columns):\n",
      " #   Column               Non-Null Count  Dtype         \n",
      "---  ------               --------------  -----         \n",
      " 0   lastdate             221 non-null    datetime64[ns]\n",
      " 1   location             221 non-null    object        \n",
      " 2   total_cases          192 non-null    float64       \n",
      " 3   total_deaths         185 non-null    float64       \n",
      " 4   total_cases_mill     192 non-null    float64       \n",
      " 5   total_deaths_mill    185 non-null    float64       \n",
      " 6   population           221 non-null    float64       \n",
      " 7   population_density   206 non-null    float64       \n",
      " 8   median_age           190 non-null    float64       \n",
      " 9   gdp_per_capita       193 non-null    float64       \n",
      " 10  aged_65_older        188 non-null    float64       \n",
      " 11  total_tests_thous    13 non-null     float64       \n",
      " 12  life_expectancy      217 non-null    float64       \n",
      " 13  hospital_beds_thous  170 non-null    float64       \n",
      " 14  diabetes_prevalence  200 non-null    float64       \n",
      " 15  region               221 non-null    object        \n",
      "dtypes: datetime64[ns](1), float64(13), object(2)\n",
      "memory usage: 29.4+ KB\n",
      "None\n"
     ]
    }
   ],
   "source": [
    "print(covidtotals.info())"
   ]
  },
  {
   "cell_type": "code",
   "execution_count": 16,
   "id": "fd549cd5",
   "metadata": {},
   "outputs": [
    {
     "name": "stdout",
     "output_type": "stream",
     "text": [
      "        total_cases   total_deaths  total_cases_mill  total_deaths_mill  \\\n",
      "count  1.920000e+02     185.000000        192.000000         185.000000   \n",
      "mean   9.639329e+05   21630.978378      36649.371823         683.136995   \n",
      "std    3.652892e+06   72075.807855      41403.975473         861.729323   \n",
      "min    1.000000e+00       1.000000          8.521000           0.352000   \n",
      "25%    1.348900e+04     212.000000       2499.746000          43.987000   \n",
      "50%    1.109290e+05    2012.000000      19525.726500         293.498000   \n",
      "75%    4.370225e+05    9341.000000      64834.619750        1087.893000   \n",
      "max    3.377044e+07  606218.000000     181466.382000        5876.013000   \n",
      "\n",
      "         population  population_density  median_age  gdp_per_capita  \\\n",
      "count  2.210000e+02          206.000000  190.000000      193.000000   \n",
      "mean   3.513496e+07          453.287850   30.300526    19141.314611   \n",
      "std    1.391316e+08         2094.185207    9.117774    20488.478671   \n",
      "min    4.700000e+01            0.137000   15.100000      661.240000   \n",
      "25%    6.280620e+05           36.517750   22.050000     3823.194000   \n",
      "50%    6.486201e+06           87.250000   29.500000    12236.706000   \n",
      "75%    2.381678e+07          213.535500   38.700000    27216.445000   \n",
      "max    1.439324e+09        20546.766000   48.200000   116935.600000   \n",
      "\n",
      "       aged_65_older  total_tests_thous  life_expectancy  hospital_beds_thous  \\\n",
      "count     188.000000          13.000000       217.000000           170.000000   \n",
      "mean        8.606995         535.450077        73.368664             3.029871   \n",
      "std         6.122553         769.569583         7.499225             2.453849   \n",
      "min         1.144000          67.281000        53.280000             0.100000   \n",
      "25%         3.496750         170.533000        68.190000             1.300000   \n",
      "50%         6.217500         392.475000        74.790000             2.398500   \n",
      "75%        13.917500         470.669000        78.880000             3.965250   \n",
      "max        27.049000        3005.154000        86.750000            13.800000   \n",
      "\n",
      "       diabetes_prevalence  \n",
      "count           200.000000  \n",
      "mean              8.442500  \n",
      "std               4.886392  \n",
      "min               0.990000  \n",
      "25%               5.340000  \n",
      "50%               7.200000  \n",
      "75%              10.612500  \n",
      "max              30.530000  \n"
     ]
    }
   ],
   "source": [
    "print(covidtotals.describe())"
   ]
  },
  {
   "cell_type": "code",
   "execution_count": null,
   "id": "ea6ba015",
   "metadata": {},
   "outputs": [],
   "source": []
  }
 ],
 "metadata": {
  "kernelspec": {
   "display_name": "Python 3 (ipykernel)",
   "language": "python",
   "name": "python3"
  },
  "language_info": {
   "codemirror_mode": {
    "name": "ipython",
    "version": 3
   },
   "file_extension": ".py",
   "mimetype": "text/x-python",
   "name": "python",
   "nbconvert_exporter": "python",
   "pygments_lexer": "ipython3",
   "version": "3.9.12"
  }
 },
 "nbformat": 4,
 "nbformat_minor": 5
}
