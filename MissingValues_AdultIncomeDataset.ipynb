{
 "cells": [
  {
   "cell_type": "code",
   "execution_count": 1,
   "id": "2d80325b",
   "metadata": {},
   "outputs": [],
   "source": [
    "import pandas as pd\n",
    "import numpy as np"
   ]
  },
  {
   "cell_type": "code",
   "execution_count": 2,
   "id": "98585722",
   "metadata": {},
   "outputs": [
    {
     "name": "stdout",
     "output_type": "stream",
     "text": [
      "    0          1       2             3                4                   5   \\\n",
      "0  age  workclass  fnlwgt     education  educational-num      marital-status   \n",
      "1   25    Private  226802          11th                7       Never-married   \n",
      "2   38    Private   89814       HS-grad                9  Married-civ-spouse   \n",
      "3   28  Local-gov  336951    Assoc-acdm               12  Married-civ-spouse   \n",
      "4   44    Private  160323  Some-college               10  Married-civ-spouse   \n",
      "\n",
      "                  6             7      8       9             10            11  \\\n",
      "0         occupation  relationship   race  gender  capital-gain  capital-loss   \n",
      "1  Machine-op-inspct     Own-child  Black    Male             0             0   \n",
      "2    Farming-fishing       Husband  White    Male             0             0   \n",
      "3    Protective-serv       Husband  White    Male             0             0   \n",
      "4  Machine-op-inspct       Husband  Black    Male          7688             0   \n",
      "\n",
      "               12              13      14  \n",
      "0  hours-per-week  native-country  income  \n",
      "1              40   United-States   <=50K  \n",
      "2              50   United-States   <=50K  \n",
      "3              40   United-States    >50K  \n",
      "4              40   United-States    >50K  \n"
     ]
    }
   ],
   "source": [
    "path = \"C:/Users/hp/Documents/DATA/AdultIncome/adult.csv\"\n",
    "df = pd.read_csv(path, header=None)\n",
    "print(df.head())"
   ]
  },
  {
   "cell_type": "markdown",
   "id": "2c576518",
   "metadata": {},
   "source": [
    "data https://www.kaggle.com/datasets/wenruliu/adult-income-dataset"
   ]
  },
  {
   "cell_type": "code",
   "execution_count": 3,
   "id": "60d82f07",
   "metadata": {},
   "outputs": [
    {
     "name": "stdout",
     "output_type": "stream",
     "text": [
      "<class 'pandas.core.frame.DataFrame'>\n",
      "RangeIndex: 48843 entries, 0 to 48842\n",
      "Data columns (total 15 columns):\n",
      " #   Column  Non-Null Count  Dtype \n",
      "---  ------  --------------  ----- \n",
      " 0   0       48843 non-null  object\n",
      " 1   1       48843 non-null  object\n",
      " 2   2       48843 non-null  object\n",
      " 3   3       48843 non-null  object\n",
      " 4   4       48843 non-null  object\n",
      " 5   5       48843 non-null  object\n",
      " 6   6       48843 non-null  object\n",
      " 7   7       48843 non-null  object\n",
      " 8   8       48843 non-null  object\n",
      " 9   9       48843 non-null  object\n",
      " 10  10      48843 non-null  object\n",
      " 11  11      48843 non-null  object\n",
      " 12  12      48843 non-null  object\n",
      " 13  13      48843 non-null  object\n",
      " 14  14      48843 non-null  object\n",
      "dtypes: object(15)\n",
      "memory usage: 5.6+ MB\n"
     ]
    }
   ],
   "source": [
    "df.info()"
   ]
  },
  {
   "cell_type": "code",
   "execution_count": 4,
   "id": "e23ec0cf",
   "metadata": {},
   "outputs": [
    {
     "data": {
      "text/plain": [
       "0     0\n",
       "1     0\n",
       "2     0\n",
       "3     0\n",
       "4     0\n",
       "5     0\n",
       "6     0\n",
       "7     0\n",
       "8     0\n",
       "9     0\n",
       "10    0\n",
       "11    0\n",
       "12    0\n",
       "13    0\n",
       "14    0\n",
       "dtype: int64"
      ]
     },
     "execution_count": 4,
     "metadata": {},
     "output_type": "execute_result"
    }
   ],
   "source": [
    "df.isnull().sum()"
   ]
  },
  {
   "cell_type": "code",
   "execution_count": 5,
   "id": "dc72e79b",
   "metadata": {},
   "outputs": [
    {
     "data": {
      "text/plain": [
       "(48843, 15)"
      ]
     },
     "execution_count": 5,
     "metadata": {},
     "output_type": "execute_result"
    }
   ],
   "source": [
    "df.shape"
   ]
  },
  {
   "cell_type": "code",
   "execution_count": 6,
   "id": "4c17b64a",
   "metadata": {},
   "outputs": [],
   "source": [
    "mask = np.random.choice([True, False], size=df.shape)\n",
    "df = df.where(mask, np.nan)"
   ]
  },
  {
   "cell_type": "code",
   "execution_count": 7,
   "id": "8473f702",
   "metadata": {},
   "outputs": [
    {
     "name": "stdout",
     "output_type": "stream",
     "text": [
      "<class 'pandas.core.frame.DataFrame'>\n",
      "RangeIndex: 48843 entries, 0 to 48842\n",
      "Data columns (total 15 columns):\n",
      " #   Column  Non-Null Count  Dtype \n",
      "---  ------  --------------  ----- \n",
      " 0   0       24180 non-null  object\n",
      " 1   1       24394 non-null  object\n",
      " 2   2       24510 non-null  object\n",
      " 3   3       24730 non-null  object\n",
      " 4   4       24369 non-null  object\n",
      " 5   5       24407 non-null  object\n",
      " 6   6       24415 non-null  object\n",
      " 7   7       24370 non-null  object\n",
      " 8   8       24296 non-null  object\n",
      " 9   9       24433 non-null  object\n",
      " 10  10      24379 non-null  object\n",
      " 11  11      24276 non-null  object\n",
      " 12  12      24386 non-null  object\n",
      " 13  13      24446 non-null  object\n",
      " 14  14      24433 non-null  object\n",
      "dtypes: object(15)\n",
      "memory usage: 5.6+ MB\n"
     ]
    }
   ],
   "source": [
    "df.info()"
   ]
  },
  {
   "cell_type": "code",
   "execution_count": 8,
   "id": "5639d2dd",
   "metadata": {},
   "outputs": [
    {
     "data": {
      "text/plain": [
       "0     24663\n",
       "1     24449\n",
       "2     24333\n",
       "3     24113\n",
       "4     24474\n",
       "5     24436\n",
       "6     24428\n",
       "7     24473\n",
       "8     24547\n",
       "9     24410\n",
       "10    24464\n",
       "11    24567\n",
       "12    24457\n",
       "13    24397\n",
       "14    24410\n",
       "dtype: int64"
      ]
     },
     "execution_count": 8,
     "metadata": {},
     "output_type": "execute_result"
    }
   ],
   "source": [
    "df.isnull().sum()"
   ]
  }
 ],
 "metadata": {
  "kernelspec": {
   "display_name": "Python 3 (ipykernel)",
   "language": "python",
   "name": "python3"
  },
  "language_info": {
   "codemirror_mode": {
    "name": "ipython",
    "version": 3
   },
   "file_extension": ".py",
   "mimetype": "text/x-python",
   "name": "python",
   "nbconvert_exporter": "python",
   "pygments_lexer": "ipython3",
   "version": "3.9.12"
  }
 },
 "nbformat": 4,
 "nbformat_minor": 5
}
