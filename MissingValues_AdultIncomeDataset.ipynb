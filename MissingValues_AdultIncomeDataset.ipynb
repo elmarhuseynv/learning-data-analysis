{
 "cells": [
  {
   "cell_type": "code",
   "execution_count": null,
   "id": "2d80325b",
   "metadata": {},
   "outputs": [],
   "source": [
    "import pandas as pd"
   ]
  },
  {
   "cell_type": "code",
   "execution_count": null,
   "id": "98585722",
   "metadata": {},
   "outputs": [],
   "source": [
    "path = \"C:/Users/hp/Documents/DATA/AdultIncome/adult.csv\"\n",
    "df = pd.read_csv(path, header=None)\n",
    "print(df.head())"
   ]
  },
  {
   "cell_type": "markdown",
   "id": "2c576518",
   "metadata": {},
   "source": [
    "data https://www.kaggle.com/datasets/wenruliu/adult-income-dataset"
   ]
  },
  {
   "cell_type": "code",
   "execution_count": null,
   "id": "60d82f07",
   "metadata": {},
   "outputs": [],
   "source": [
    "df.info()"
   ]
  },
  {
   "cell_type": "code",
   "execution_count": null,
   "id": "e23ec0cf",
   "metadata": {},
   "outputs": [],
   "source": [
    "df.isnull().sum()"
   ]
  },
  {
   "cell_type": "code",
   "execution_count": null,
   "id": "dc72e79b",
   "metadata": {},
   "outputs": [],
   "source": [
    "df.shape"
   ]
  },
  {
   "cell_type": "code",
   "execution_count": null,
   "id": "4c17b64a",
   "metadata": {},
   "outputs": [],
   "source": [
    "mask = np.random.choice([True, False], size=df.shape)\n",
    "df = df.where(mask, np.nan)"
   ]
  },
  {
   "cell_type": "code",
   "execution_count": null,
   "id": "8473f702",
   "metadata": {},
   "outputs": [],
   "source": [
    "df.info()"
   ]
  },
  {
   "cell_type": "code",
   "execution_count": null,
   "id": "5639d2dd",
   "metadata": {},
   "outputs": [],
   "source": [
    "df.isnull().sum()"
   ]
  }
 ],
 "metadata": {
  "kernelspec": {
   "display_name": "Python 3 (ipykernel)",
   "language": "python",
   "name": "python3"
  },
  "language_info": {
   "codemirror_mode": {
    "name": "ipython",
    "version": 3
   },
   "file_extension": ".py",
   "mimetype": "text/x-python",
   "name": "python",
   "nbconvert_exporter": "python",
   "pygments_lexer": "ipython3",
   "version": "3.9.12"
  }
 },
 "nbformat": 4,
 "nbformat_minor": 5
}
