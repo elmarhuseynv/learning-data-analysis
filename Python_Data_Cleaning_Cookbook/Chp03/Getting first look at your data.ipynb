{
 "cells": [
  {
   "cell_type": "code",
   "execution_count": 1,
   "metadata": {},
   "outputs": [],
   "source": [
    "import pandas as pd\n",
    "import numpy as np"
   ]
  },
  {
   "cell_type": "code",
   "execution_count": 2,
   "metadata": {},
   "outputs": [],
   "source": [
    "nls97 = pd.read_csv('data/nls97.csv')\n",
    "ct = pd.read_csv('data/covidtotals.csv', parse_dates=['lastdate'])"
   ]
  },
  {
   "cell_type": "code",
   "execution_count": 3,
   "metadata": {},
   "outputs": [
    {
     "data": {
      "text/plain": [
       "Int64Index([100061, 100139, 100284, 100292, 100583, 100833, 100931, 101089,\n",
       "            101122, 101132,\n",
       "            ...\n",
       "            998997, 999031, 999053, 999087, 999103, 999291, 999406, 999543,\n",
       "            999698, 999963],\n",
       "           dtype='int64', name='personid', length=8984)"
      ]
     },
     "execution_count": 3,
     "metadata": {},
     "output_type": "execute_result"
    }
   ],
   "source": [
    "nls97.set_index('personid', inplace=True)\n",
    "nls97.index"
   ]
  },
  {
   "cell_type": "code",
   "execution_count": 4,
   "metadata": {},
   "outputs": [
    {
     "data": {
      "text/plain": [
       "(8984, 88)"
      ]
     },
     "execution_count": 4,
     "metadata": {},
     "output_type": "execute_result"
    }
   ],
   "source": [
    "nls97.shape"
   ]
  },
  {
   "cell_type": "code",
   "execution_count": 5,
   "metadata": {},
   "outputs": [
    {
     "data": {
      "text/plain": [
       "8984"
      ]
     },
     "execution_count": 5,
     "metadata": {},
     "output_type": "execute_result"
    }
   ],
   "source": [
    "nls97.index.nunique()"
   ]
  },
  {
   "cell_type": "code",
   "execution_count": 6,
   "metadata": {},
   "outputs": [
    {
     "name": "stdout",
     "output_type": "stream",
     "text": [
      "<class 'pandas.core.frame.DataFrame'>\n",
      "Int64Index: 8984 entries, 100061 to 999963\n",
      "Data columns (total 88 columns):\n",
      " #   Column                 Non-Null Count  Dtype  \n",
      "---  ------                 --------------  -----  \n",
      " 0   gender                 8984 non-null   object \n",
      " 1   birthmonth             8984 non-null   int64  \n",
      " 2   birthyear              8984 non-null   int64  \n",
      " 3   highestgradecompleted  6663 non-null   float64\n",
      " 4   maritalstatus          6672 non-null   object \n",
      " 5   childathome            4791 non-null   float64\n",
      " 6   childnotathome         4791 non-null   float64\n",
      " 7   wageincome             5091 non-null   float64\n",
      " 8   weeklyhrscomputer      6710 non-null   object \n",
      " 9   weeklyhrstv            6711 non-null   object \n",
      " 10  nightlyhrssleep        6706 non-null   float64\n",
      " 11  satverbal              1406 non-null   float64\n",
      " 12  satmath                1407 non-null   float64\n",
      " 13  gpaoverall             6004 non-null   float64\n",
      " 14  gpaenglish             5798 non-null   float64\n",
      " 15  gpamath                5766 non-null   float64\n",
      " 16  gpascience             5684 non-null   float64\n",
      " 17  highestdegree          8953 non-null   object \n",
      " 18  govprovidejobs         1833 non-null   object \n",
      " 19  govpricecontrols       1859 non-null   object \n",
      " 20  govhealthcare          1874 non-null   object \n",
      " 21  govelderliving         1872 non-null   object \n",
      " 22  govindhelp             1815 non-null   object \n",
      " 23  govunemp               1811 non-null   object \n",
      " 24  govincomediff          1775 non-null   object \n",
      " 25  govcollegefinance      1875 non-null   object \n",
      " 26  govdecenthousing       1847 non-null   object \n",
      " 27  govprotectenvironment  1860 non-null   object \n",
      " 28  weeksworked00          8603 non-null   float64\n",
      " 29  weeksworked01          8564 non-null   float64\n",
      " 30  weeksworked02          8556 non-null   float64\n",
      " 31  weeksworked03          8490 non-null   float64\n",
      " 32  weeksworked04          8458 non-null   float64\n",
      " 33  weeksworked05          8403 non-null   float64\n",
      " 34  weeksworked06          8340 non-null   float64\n",
      " 35  weeksworked07          8272 non-null   float64\n",
      " 36  weeksworked08          8186 non-null   float64\n",
      " 37  weeksworked09          8146 non-null   float64\n",
      " 38  weeksworked10          8054 non-null   float64\n",
      " 39  weeksworked11          7968 non-null   float64\n",
      " 40  weeksworked12          7747 non-null   float64\n",
      " 41  weeksworked13          7680 non-null   float64\n",
      " 42  weeksworked14          7612 non-null   float64\n",
      " 43  weeksworked15          7389 non-null   float64\n",
      " 44  weeksworked16          7068 non-null   float64\n",
      " 45  weeksworked17          6670 non-null   float64\n",
      " 46  colenrfeb97            1250 non-null   object \n",
      " 47  colenroct97            8501 non-null   object \n",
      " 48  colenrfeb98            8501 non-null   object \n",
      " 49  colenroct98            8888 non-null   object \n",
      " 50  colenrfeb99            8865 non-null   object \n",
      " 51  colenroct99            8851 non-null   object \n",
      " 52  colenrfeb00            8820 non-null   object \n",
      " 53  colenroct00            8805 non-null   object \n",
      " 54  colenrfeb01            8786 non-null   object \n",
      " 55  colenroct01            8758 non-null   object \n",
      " 56  colenrfeb02            8732 non-null   object \n",
      " 57  colenroct02            8698 non-null   object \n",
      " 58  colenrfeb03            8658 non-null   object \n",
      " 59  colenroct03            8622 non-null   object \n",
      " 60  colenrfeb04            8578 non-null   object \n",
      " 61  colenroct04            8546 non-null   object \n",
      " 62  colenrfeb05            8508 non-null   object \n",
      " 63  colenroct05            8471 non-null   object \n",
      " 64  colenrfeb06            8426 non-null   object \n",
      " 65  colenroct06            8407 non-null   object \n",
      " 66  colenrfeb07            8352 non-null   object \n",
      " 67  colenroct07            8331 non-null   object \n",
      " 68  colenrfeb08            8289 non-null   object \n",
      " 69  colenroct08            8280 non-null   object \n",
      " 70  colenrfeb09            8236 non-null   object \n",
      " 71  colenroct09            8193 non-null   object \n",
      " 72  colenrfeb10            8116 non-null   object \n",
      " 73  colenroct10            8091 non-null   object \n",
      " 74  colenrfeb11            8037 non-null   object \n",
      " 75  colenroct11            7972 non-null   object \n",
      " 76  colenrfeb12            7794 non-null   object \n",
      " 77  colenroct12            7754 non-null   object \n",
      " 78  colenrfeb13            7754 non-null   object \n",
      " 79  colenroct13            7754 non-null   object \n",
      " 80  colenrfeb14            7624 non-null   object \n",
      " 81  colenroct14            7469 non-null   object \n",
      " 82  colenrfeb15            7469 non-null   object \n",
      " 83  colenroct15            7469 non-null   object \n",
      " 84  colenrfeb16            7036 non-null   object \n",
      " 85  colenroct16            6733 non-null   object \n",
      " 86  colenrfeb17            6733 non-null   object \n",
      " 87  colenroct17            6734 non-null   object \n",
      "dtypes: float64(29), int64(2), object(57)\n",
      "memory usage: 6.4+ MB\n"
     ]
    }
   ],
   "source": [
    "nls97.info()"
   ]
  },
  {
   "cell_type": "code",
   "execution_count": 7,
   "metadata": {},
   "outputs": [
    {
     "data": {
      "text/html": [
       "<div>\n",
       "<style scoped>\n",
       "    .dataframe tbody tr th:only-of-type {\n",
       "        vertical-align: middle;\n",
       "    }\n",
       "\n",
       "    .dataframe tbody tr th {\n",
       "        vertical-align: top;\n",
       "    }\n",
       "\n",
       "    .dataframe thead th {\n",
       "        text-align: right;\n",
       "    }\n",
       "</style>\n",
       "<table border=\"1\" class=\"dataframe\">\n",
       "  <thead>\n",
       "    <tr style=\"text-align: right;\">\n",
       "      <th>personid</th>\n",
       "      <th>100061</th>\n",
       "      <th>100139</th>\n",
       "    </tr>\n",
       "  </thead>\n",
       "  <tbody>\n",
       "    <tr>\n",
       "      <th>gender</th>\n",
       "      <td>Female</td>\n",
       "      <td>Male</td>\n",
       "    </tr>\n",
       "    <tr>\n",
       "      <th>birthmonth</th>\n",
       "      <td>5</td>\n",
       "      <td>9</td>\n",
       "    </tr>\n",
       "    <tr>\n",
       "      <th>birthyear</th>\n",
       "      <td>1980</td>\n",
       "      <td>1983</td>\n",
       "    </tr>\n",
       "    <tr>\n",
       "      <th>highestgradecompleted</th>\n",
       "      <td>13.0</td>\n",
       "      <td>12.0</td>\n",
       "    </tr>\n",
       "    <tr>\n",
       "      <th>maritalstatus</th>\n",
       "      <td>Married</td>\n",
       "      <td>Married</td>\n",
       "    </tr>\n",
       "    <tr>\n",
       "      <th>...</th>\n",
       "      <td>...</td>\n",
       "      <td>...</td>\n",
       "    </tr>\n",
       "    <tr>\n",
       "      <th>colenroct15</th>\n",
       "      <td>1. Not enrolled</td>\n",
       "      <td>1. Not enrolled</td>\n",
       "    </tr>\n",
       "    <tr>\n",
       "      <th>colenrfeb16</th>\n",
       "      <td>1. Not enrolled</td>\n",
       "      <td>1. Not enrolled</td>\n",
       "    </tr>\n",
       "    <tr>\n",
       "      <th>colenroct16</th>\n",
       "      <td>1. Not enrolled</td>\n",
       "      <td>1. Not enrolled</td>\n",
       "    </tr>\n",
       "    <tr>\n",
       "      <th>colenrfeb17</th>\n",
       "      <td>1. Not enrolled</td>\n",
       "      <td>1. Not enrolled</td>\n",
       "    </tr>\n",
       "    <tr>\n",
       "      <th>colenroct17</th>\n",
       "      <td>1. Not enrolled</td>\n",
       "      <td>1. Not enrolled</td>\n",
       "    </tr>\n",
       "  </tbody>\n",
       "</table>\n",
       "<p>88 rows × 2 columns</p>\n",
       "</div>"
      ],
      "text/plain": [
       "personid                        100061           100139\n",
       "gender                          Female             Male\n",
       "birthmonth                           5                9\n",
       "birthyear                         1980             1983\n",
       "highestgradecompleted             13.0             12.0\n",
       "maritalstatus                  Married          Married\n",
       "...                                ...              ...\n",
       "colenroct15            1. Not enrolled  1. Not enrolled\n",
       "colenrfeb16            1. Not enrolled  1. Not enrolled\n",
       "colenroct16            1. Not enrolled  1. Not enrolled\n",
       "colenrfeb17            1. Not enrolled  1. Not enrolled\n",
       "colenroct17            1. Not enrolled  1. Not enrolled\n",
       "\n",
       "[88 rows x 2 columns]"
      ]
     },
     "execution_count": 7,
     "metadata": {},
     "output_type": "execute_result"
    }
   ],
   "source": [
    "nls97.head(2).T"
   ]
  },
  {
   "cell_type": "code",
   "execution_count": 8,
   "metadata": {},
   "outputs": [
    {
     "data": {
      "text/plain": [
       "Index(['AFG', 'ALB', 'DZA', 'AND', 'AGO', 'AIA', 'ATG', 'ARG', 'ARM', 'ABW',\n",
       "       ...\n",
       "       'VIR', 'URY', 'UZB', 'VAT', 'VEN', 'VNM', 'ESH', 'YEM', 'ZMB', 'ZWE'],\n",
       "      dtype='object', name='iso_code', length=210)"
      ]
     },
     "execution_count": 8,
     "metadata": {},
     "output_type": "execute_result"
    }
   ],
   "source": [
    "ct.set_index('iso_code', inplace=True)\n",
    "ct.index"
   ]
  },
  {
   "cell_type": "code",
   "execution_count": 9,
   "metadata": {},
   "outputs": [
    {
     "data": {
      "text/plain": [
       "(210, 11)"
      ]
     },
     "execution_count": 9,
     "metadata": {},
     "output_type": "execute_result"
    }
   ],
   "source": [
    "ct.shape"
   ]
  },
  {
   "cell_type": "code",
   "execution_count": 10,
   "metadata": {},
   "outputs": [
    {
     "data": {
      "text/plain": [
       "210"
      ]
     },
     "execution_count": 10,
     "metadata": {},
     "output_type": "execute_result"
    }
   ],
   "source": [
    "ct.index.nunique()"
   ]
  },
  {
   "cell_type": "code",
   "execution_count": 11,
   "metadata": {},
   "outputs": [
    {
     "name": "stdout",
     "output_type": "stream",
     "text": [
      "<class 'pandas.core.frame.DataFrame'>\n",
      "Index: 210 entries, AFG to ZWE\n",
      "Data columns (total 11 columns):\n",
      " #   Column           Non-Null Count  Dtype         \n",
      "---  ------           --------------  -----         \n",
      " 0   lastdate         210 non-null    datetime64[ns]\n",
      " 1   location         210 non-null    object        \n",
      " 2   total_cases      210 non-null    int64         \n",
      " 3   total_deaths     210 non-null    int64         \n",
      " 4   total_cases_pm   209 non-null    float64       \n",
      " 5   total_deaths_pm  209 non-null    float64       \n",
      " 6   population       210 non-null    float64       \n",
      " 7   pop_density      198 non-null    float64       \n",
      " 8   median_age       186 non-null    float64       \n",
      " 9   gdp_per_capita   182 non-null    float64       \n",
      " 10  hosp_beds        164 non-null    float64       \n",
      "dtypes: datetime64[ns](1), float64(7), int64(2), object(1)\n",
      "memory usage: 27.8+ KB\n"
     ]
    }
   ],
   "source": [
    "ct.info()"
   ]
  },
  {
   "cell_type": "code",
   "execution_count": 12,
   "metadata": {},
   "outputs": [
    {
     "data": {
      "text/html": [
       "<div>\n",
       "<style scoped>\n",
       "    .dataframe tbody tr th:only-of-type {\n",
       "        vertical-align: middle;\n",
       "    }\n",
       "\n",
       "    .dataframe tbody tr th {\n",
       "        vertical-align: top;\n",
       "    }\n",
       "\n",
       "    .dataframe thead th {\n",
       "        text-align: right;\n",
       "    }\n",
       "</style>\n",
       "<table border=\"1\" class=\"dataframe\">\n",
       "  <thead>\n",
       "    <tr style=\"text-align: right;\">\n",
       "      <th>iso_code</th>\n",
       "      <th>COG</th>\n",
       "      <th>THA</th>\n",
       "    </tr>\n",
       "  </thead>\n",
       "  <tbody>\n",
       "    <tr>\n",
       "      <th>lastdate</th>\n",
       "      <td>2020-06-01 00:00:00</td>\n",
       "      <td>2020-06-01 00:00:00</td>\n",
       "    </tr>\n",
       "    <tr>\n",
       "      <th>location</th>\n",
       "      <td>Congo</td>\n",
       "      <td>Thailand</td>\n",
       "    </tr>\n",
       "    <tr>\n",
       "      <th>total_cases</th>\n",
       "      <td>611</td>\n",
       "      <td>3081</td>\n",
       "    </tr>\n",
       "    <tr>\n",
       "      <th>total_deaths</th>\n",
       "      <td>20</td>\n",
       "      <td>57</td>\n",
       "    </tr>\n",
       "    <tr>\n",
       "      <th>total_cases_pm</th>\n",
       "      <td>110.727</td>\n",
       "      <td>44.14</td>\n",
       "    </tr>\n",
       "    <tr>\n",
       "      <th>total_deaths_pm</th>\n",
       "      <td>3.624</td>\n",
       "      <td>0.817</td>\n",
       "    </tr>\n",
       "    <tr>\n",
       "      <th>population</th>\n",
       "      <td>5518092.0</td>\n",
       "      <td>69799978.0</td>\n",
       "    </tr>\n",
       "    <tr>\n",
       "      <th>pop_density</th>\n",
       "      <td>15.405</td>\n",
       "      <td>135.132</td>\n",
       "    </tr>\n",
       "    <tr>\n",
       "      <th>median_age</th>\n",
       "      <td>19.0</td>\n",
       "      <td>40.1</td>\n",
       "    </tr>\n",
       "    <tr>\n",
       "      <th>gdp_per_capita</th>\n",
       "      <td>4881.406</td>\n",
       "      <td>16277.671</td>\n",
       "    </tr>\n",
       "    <tr>\n",
       "      <th>hosp_beds</th>\n",
       "      <td>NaN</td>\n",
       "      <td>2.1</td>\n",
       "    </tr>\n",
       "  </tbody>\n",
       "</table>\n",
       "</div>"
      ],
      "text/plain": [
       "iso_code                         COG                  THA\n",
       "lastdate         2020-06-01 00:00:00  2020-06-01 00:00:00\n",
       "location                       Congo             Thailand\n",
       "total_cases                      611                 3081\n",
       "total_deaths                      20                   57\n",
       "total_cases_pm               110.727                44.14\n",
       "total_deaths_pm                3.624                0.817\n",
       "population                 5518092.0           69799978.0\n",
       "pop_density                   15.405              135.132\n",
       "median_age                      19.0                 40.1\n",
       "gdp_per_capita              4881.406            16277.671\n",
       "hosp_beds                        NaN                  2.1"
      ]
     },
     "execution_count": 12,
     "metadata": {},
     "output_type": "execute_result"
    }
   ],
   "source": [
    "ct.sample(2, random_state=1).T"
   ]
  }
 ],
 "metadata": {
  "kernelspec": {
   "display_name": "Python 3",
   "language": "python",
   "name": "python3"
  },
  "language_info": {
   "codemirror_mode": {
    "name": "ipython",
    "version": 3
   },
   "file_extension": ".py",
   "mimetype": "text/x-python",
   "name": "python",
   "nbconvert_exporter": "python",
   "pygments_lexer": "ipython3",
   "version": "3.11.4"
  },
  "orig_nbformat": 4
 },
 "nbformat": 4,
 "nbformat_minor": 2
}
